{
 "cells": [
  {
   "cell_type": "code",
   "execution_count": null,
   "id": "6bf73e37-49af-46d8-898a-db9af43a3bdd",
   "metadata": {},
   "outputs": [],
   "source": [
    "# Install required libraries\n",
    "# !pip install torch\n",
    "# !pip install torchvision\n",
    "# !pip install kaggle\n",
    "# !pip install fastapi"
   ]
  },
  {
   "cell_type": "code",
   "execution_count": 28,
   "id": "e0582aff-f0ec-4593-9879-5a6bab022492",
   "metadata": {},
   "outputs": [],
   "source": [
    "# Import required libraries\n",
    "import torch\n",
    "import torch.nn as nn\n",
    "import torch.optim as optim\n",
    "import time"
   ]
  },
  {
   "cell_type": "code",
   "execution_count": 43,
   "id": "7f3e8b23-3252-4b77-84f6-2e8143e2c526",
   "metadata": {},
   "outputs": [],
   "source": [
    "# Custom CNN for Eye Disease Classification\n",
    "class EyeDiseaseClassifier(nn.Module):\n",
    "    def __init__(self, num_classes=5):\n",
    "        super(EyeDiseaseClassifier, self).__init__()\n",
    "        self.conv1 = nn.Conv2d(3, 32, kernel_size=3, padding=1)\n",
    "        self.conv2 = nn.Conv2d(32, 64, kernel_size=3, padding=1)\n",
    "        self.conv3 = nn.Conv2d(64, 128, kernel_size=3, padding=1)\n",
    "        self.fc1 = nn.Linear(128 * 28 * 28, 512)\n",
    "        self.fc2 = nn.Linear(512, num_classes)\n",
    "    def forward(self, x):\n",
    "        x = torch.relu(self.conv1(x))\n",
    "        x = torch.max_pool2d(x, 2)\n",
    "        x = torch.relu(self.conv2(x))\n",
    "        x = torch.max_pool2d(x, 2)\n",
    "        x = torch.relu(self.conv3(x))\n",
    "        x = torch.max_pool2d(x, 2)\n",
    "        x = x.view(x.size(0), -1)\n",
    "        x = torch.relu(self.fc1(x))\n",
    "        return self.fc2(x)"
   ]
  },
  {
   "cell_type": "code",
   "execution_count": 44,
   "id": "b0b422fa-8321-418a-955e-2ba198f02494",
   "metadata": {},
   "outputs": [
    {
     "data": {
      "text/plain": [
       "35126"
      ]
     },
     "execution_count": 44,
     "metadata": {},
     "output_type": "execute_result"
    }
   ],
   "source": [
    "import torch\n",
    "import torch.nn as nn\n",
    "import torch.optim as optim\n",
    "from torchvision import datasets, transforms\n",
    "from torch.utils.data import DataLoader, random_split\n",
    "\n",
    "1. Define the transformations for the dataset\n",
    "transform = transforms.Compose([\n",
    "    transforms.Resize((224, 224)),  # Resize images to 224x224\n",
    "    transforms.ToTensor(),  # Convert image to PyTorch tensor\n",
    "    transforms.Normalize([0.485, 0.456, 0.406], [0.229, 0.224, 0.225])  # Normalize with ImageNet stats\n",
    "])\n",
    "\n",
    "transform = transforms.Compose([transforms.Resize((224, 224)), transforms.ToTensor()])\n",
    "\n",
    "# 2. Load the dataset (e.g., APTOS 2019 dataset or any similar dataset)\n",
    "dataset15 = datasets.ImageFolder(root='data/train15/', transform=transform)\n",
    "len(dataset15)"
   ]
  },
  {
   "cell_type": "code",
   "execution_count": 45,
   "id": "460e1a5d-9737-42a8-8832-e82fe7a70959",
   "metadata": {},
   "outputs": [],
   "source": [
    "# 3. Split the dataset into train and validation sets\n",
    "train_size = int(0.8 * len(dataset))\n",
    "val_size = len(dataset) - train_size\n",
    "train_dataset, val_dataset = random_split(dataset, [train_size, val_size])\n",
    "\n",
    "# 3. Split the dataset into train and validation sets\n",
    "train_size = int(0.8 * len(dataset))\n",
    "val_size = len(dataset) - train_size\n",
    "train_dataset, val_dataset = random_split(dataset, [train_size, val_size])\n",
    "\n",
    "# 4. Create DataLoader objects for training and validation\n",
    "batch_size = 32\n",
    "train_loader = DataLoader(train_dataset, batch_size=batch_size, shuffle=True)\n",
    "val_loader = DataLoader(val_dataset, batch_size=batch_size, shuffle=False)\n",
    "\n",
    "# 5. Create a dictionary of the dataloaders\n",
    "dataloaders = {\n",
    "    'train': train_loader,\n",
    "    'val': val_loader\n",
    "}"
   ]
  },
  {
   "cell_type": "code",
   "execution_count": 46,
   "id": "55bf994c-cdba-4fc2-8564-432d19e8a4f5",
   "metadata": {},
   "outputs": [],
   "source": [
    "# 6. Define the model, loss function, and optimizer\n",
    "model = EyeDiseaseClassifier(num_classes=5)  # Example: 5 classes for eye disease classification\n",
    "criterion = nn.CrossEntropyLoss()  # Use CrossEntropyLoss for classification tasks\n",
    "optimizer = optim.Adam(model.parameters(), lr=0.001)  # Adam optimizer"
   ]
  },
  {
   "cell_type": "code",
   "execution_count": 47,
   "id": "9eff1197-ccd5-49c2-84fb-eb9339ea8420",
   "metadata": {},
   "outputs": [
    {
     "name": "stdout",
     "output_type": "stream",
     "text": [
      "Epoch 1/2\n",
      "Training Loss: 0.8797, Accuracy: 0.7353, Precision: 0.5478, Recall: 0.7353, F1-Score: 0.6262\n",
      "Validation Loss: 0.9205, Accuracy: 0.7252, Precision: 0.5318, Recall: 0.7252, F1-Score: 0.6120\n",
      "Epoch 2/2\n",
      "Training Loss: 0.8621, Accuracy: 0.7372, Precision: 0.5497, Recall: 0.7372, F1-Score: 0.6281\n",
      "Validation Loss: 0.8771, Accuracy: 0.7252, Precision: 0.5318, Recall: 0.7252, F1-Score: 0.6120\n"
     ]
    }
   ],
   "source": [
    "from sklearn.metrics import precision_score, recall_score, f1_score\n",
    "\n",
    "def calculate_metrics(outputs, labels):\n",
    "    \"\"\"Calculate precision, recall, and F1-score for a batch.\"\"\"\n",
    "    _, preds = torch.max(outputs, 1)  # Get predicted class\n",
    "    preds = preds.cpu().numpy()  # Convert to numpy for sklearn\n",
    "    labels = labels.cpu().numpy()  # Convert to numpy for sklearn\n",
    "    \n",
    "    precision = precision_score(labels, preds, average='weighted', zero_division=0)\n",
    "    recall = recall_score(labels, preds, average='weighted', zero_division=0)\n",
    "    f1 = f1_score(labels, preds, average='weighted', zero_division=0)\n",
    "\n",
    "    return precision, recall, f1\n",
    "\n",
    "# 7. Training loop function\n",
    "def train_model(model, dataloaders, criterion, optimizer, num_epochs=5):\n",
    "    for epoch in range(num_epochs):\n",
    "        print(f'Epoch {epoch + 1}/{num_epochs}')\n",
    "        \n",
    "        # Training phase\n",
    "        model.train()\n",
    "        running_loss = 0.0\n",
    "        running_corrects = 0\n",
    "        total_samples = 0\n",
    "        total_precision, total_recall, total_f1 = 0, 0, 0  # Track metrics\n",
    "\n",
    "        for inputs, labels in dataloaders['train']:\n",
    "            optimizer.zero_grad()\n",
    "            outputs = model(inputs)\n",
    "            loss = criterion(outputs, labels)\n",
    "            loss.backward()\n",
    "            optimizer.step()\n",
    "\n",
    "            running_loss += loss.item() * inputs.size(0)\n",
    "            running_corrects += torch.sum(torch.max(outputs, 1)[1] == labels).item()\n",
    "            total_samples += labels.size(0)\n",
    "\n",
    "            # Calculate precision, recall, and F1-score for the batch\n",
    "            precision, recall, f1 = calculate_metrics(outputs, labels)\n",
    "            total_precision += precision * inputs.size(0)\n",
    "            total_recall += recall * inputs.size(0)\n",
    "            total_f1 += f1 * inputs.size(0)\n",
    "\n",
    "        epoch_loss = running_loss / total_samples\n",
    "        epoch_acc = running_corrects / total_samples\n",
    "        epoch_precision = total_precision / total_samples\n",
    "        epoch_recall = total_recall / total_samples\n",
    "        epoch_f1 = total_f1 / total_samples\n",
    "\n",
    "        print(f'Training Loss: {epoch_loss:.4f}, Accuracy: {epoch_acc:.4f}, '\n",
    "              f'Precision: {epoch_precision:.4f}, Recall: {epoch_recall:.4f}, F1-Score: {epoch_f1:.4f}')\n",
    "\n",
    "        # Validation phase\n",
    "        model.eval()\n",
    "        val_loss = 0.0\n",
    "        val_corrects = 0\n",
    "        val_samples = 0\n",
    "        val_precision, val_recall, val_f1 = 0, 0, 0\n",
    "\n",
    "        with torch.no_grad():\n",
    "            for inputs, labels in dataloaders['val']:\n",
    "                outputs = model(inputs)\n",
    "                loss = criterion(outputs, labels)\n",
    "\n",
    "                val_loss += loss.item() * inputs.size(0)\n",
    "                val_corrects += torch.sum(torch.max(outputs, 1)[1] == labels).item()\n",
    "                val_samples += labels.size(0)\n",
    "\n",
    "                # Calculate precision, recall, and F1-score for the batch\n",
    "                precision, recall, f1 = calculate_metrics(outputs, labels)\n",
    "                val_precision += precision * inputs.size(0)\n",
    "                val_recall += recall * inputs.size(0)\n",
    "                val_f1 += f1 * inputs.size(0)\n",
    "\n",
    "        val_loss /= val_samples\n",
    "        val_acc = val_corrects / val_samples\n",
    "        val_precision /= val_samples\n",
    "        val_recall /= val_samples\n",
    "        val_f1 /= val_samples\n",
    "\n",
    "        print(f'Validation Loss: {val_loss:.4f}, Accuracy: {val_acc:.4f}, '\n",
    "              f'Precision: {val_precision:.4f}, Recall: {val_recall:.4f}, F1-Score: {val_f1:.4f}')\n",
    "\n",
    "# Train the model\n",
    "train_model(model, dataloaders, criterion, optimizer, 2)\n"
   ]
  },
  {
   "cell_type": "code",
   "execution_count": 48,
   "id": "34bc5e4f-18d2-45be-b3d2-be01bce95d23",
   "metadata": {},
   "outputs": [
    {
     "name": "stdout",
     "output_type": "stream",
     "text": [
      "v1.3vgg16_model.pth\n"
     ]
    }
   ],
   "source": [
    "# Save the state_dict (model parameters)\n",
    "torch.save(model.state_dict(), \"v1.2_vgg16_model\")\n",
    "print(\"v1.2_vgg16_model\")"
   ]
  }
 ],
 "metadata": {
  "kernelspec": {
   "display_name": "Python 3.9",
   "language": "python",
   "name": "python39"
  },
  "language_info": {
   "codemirror_mode": {
    "name": "ipython",
    "version": 3
   },
   "file_extension": ".py",
   "mimetype": "text/x-python",
   "name": "python",
   "nbconvert_exporter": "python",
   "pygments_lexer": "ipython3",
   "version": "3.9.17"
  }
 },
 "nbformat": 4,
 "nbformat_minor": 5
}
