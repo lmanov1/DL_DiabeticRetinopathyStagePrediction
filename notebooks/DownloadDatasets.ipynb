{
 "cells": [
  {
   "cell_type": "code",
   "execution_count": null,
   "id": "f99e1527-ddd8-4ddc-b2b6-b1405aaa8c4d",
   "metadata": {},
   "outputs": [],
   "source": [
    "# !pip install kaggle\n",
    "# !pip install tensorflow"
   ]
  },
  {
   "cell_type": "code",
   "execution_count": 2,
   "id": "8b970f5a-35ba-4851-89eb-7c19e4ff6ade",
   "metadata": {},
   "outputs": [],
   "source": [
    "import warnings\n",
    "warnings.filterwarnings(\"ignore\")"
   ]
  },
  {
   "cell_type": "code",
   "execution_count": 1,
   "id": "43b447cd-eb2d-4788-9993-9cf4dff343c5",
   "metadata": {},
   "outputs": [
    {
     "name": "stdout",
     "output_type": "stream",
     "text": [
      "Dataset URL: https://www.kaggle.com/datasets/mariaherrerot/aptos2019\n"
     ]
    }
   ],
   "source": [
    "# Download Datasets\n",
    "\n",
    "import os\n",
    "from kaggle.api.kaggle_api_extended import KaggleApi\n",
    "\n",
    "raw_data_directory = 'data/raw/'\n",
    "\n",
    "api = KaggleApi()\n",
    "api.authenticate()\n",
    "    \n",
    "#api.dataset_download_files('benjaminwarner/resized-2015-2019-blindness-detection-images', path=raw_data_directory, unzip=True)\n",
    "api.dataset_download_files('mariaherrerot/aptos2019', path=raw_data_directory, unzip=True)"
   ]
  },
  {
   "cell_type": "code",
   "execution_count": 2,
   "id": "c861fb43-e54f-4a53-8dc2-139def035e00",
   "metadata": {},
   "outputs": [
    {
     "name": "stdout",
     "output_type": "stream",
     "text": [
      "resized test 15\n",
      "resized train 15\n",
      "test_images\n",
      "val_images\n",
      "valid.csv\n",
      "train_images\n",
      "resized train 19\n",
      "test.csv\n",
      "train_1.csv\n",
      "resized test 19\n",
      "labels\n"
     ]
    }
   ],
   "source": [
    "for filename in os.listdir(raw_data_directory):\n",
    "    print(filename)"
   ]
  },
  {
   "cell_type": "code",
   "execution_count": 4,
   "id": "949c44fd-e533-49e0-8e90-13a39f6eddba",
   "metadata": {},
   "outputs": [],
   "source": [
    "# Remove spaces from raw data directories\n",
    "for filename in os.listdir(raw_data_directory):\n",
    "    old_file = os.path.join(raw_data_directory, filename)\n",
    "        \n",
    "    # Check if it is a file and has spaces in the name\n",
    "    if os.path.isfile(old_file) and \" \" in filename:\n",
    "        new_filename = filename.replace(\" \", replace_with)\n",
    "        new_file = os.path.join(raw_data_directory, new_filename)\n",
    "            \n",
    "        # Rename the file if the name has changed\n",
    "        if old_file != new_file:\n",
    "            os.rename(old_file, new_file)\n",
    "            print(f\"Renamed: {old_file} -> {new_file}\")"
   ]
  },
  {
   "cell_type": "code",
   "execution_count": 5,
   "id": "10fe31f3-ddbc-4b12-9992-e3892932490a",
   "metadata": {},
   "outputs": [
    {
     "name": "stdout",
     "output_type": "stream",
     "text": [
      "<class 'list'>\n"
     ]
    }
   ],
   "source": [
    "import os\n",
    "import pandas as pd\n",
    "import json\n",
    "\n",
    "#dataset_path = \"data/raw/labels/trainLabels19.csv\"\n",
    "dataset_path = \"data/raw/valid.csv\"\n",
    "#json_data_name = 'data/data19.json'\n",
    "json_data_name = 'data/aptos19_val.json'\n",
    "\n",
    "if not os.path.exists(json_data_name):\n",
    "    df = pd.read_csv(dataset_path)\n",
    "    df.head()\n",
    "\n",
    "    json_data = df.to_json(orient='records', indent=4)\n",
    "\n",
    "    with open(json_data_name, 'w') as f:\n",
    "        f.write(json_data)\n",
    "        \n",
    "    with open(json_data_name, 'r', encoding='utf-8') as f:\n",
    "        data_as_dict = json.load(f)\n",
    "\n",
    "        print(type(data_as_dict))\n",
    "        data_as_dict[:10]"
   ]
  },
  {
   "cell_type": "code",
   "execution_count": 6,
   "id": "16e8a28a-5ac2-4a62-9bcc-b0248c34255d",
   "metadata": {},
   "outputs": [],
   "source": [
    "import shutil\n",
    "# Prepare Data - Copy Images to Class-Specific Directories\n",
    "def prepare_data(data, src_folder, dst_folder):\n",
    "    if not os.path.exists(dst_folder):\n",
    "        os.makedirs(dst_folder)\n",
    "    \n",
    "    for record in data:\n",
    "        #diagnosis = str(record['level'])\n",
    "        diagnosis = str(record['diagnosis'])\n",
    "        #img_name = f\"{record['image']}.jpg\"\n",
    "        #img_name = f\"{record['id_code']}.jpg\"\n",
    "        img_name = f\"{record['id_code']}.png\"\n",
    "            \n",
    "        class_folder = os.path.join(dst_folder, diagnosis)\n",
    "        if not os.path.exists(class_folder):\n",
    "            os.makedirs(class_folder)\n",
    "        \n",
    "        shutil.copy(os.path.join(src_folder, img_name), os.path.join(class_folder, img_name))"
   ]
  },
  {
   "cell_type": "code",
   "execution_count": 8,
   "id": "fea74e48-44b5-45b9-9fc7-661d6b475374",
   "metadata": {},
   "outputs": [
    {
     "name": "stdout",
     "output_type": "stream",
     "text": [
      "data/aptos19_val.json\n"
     ]
    }
   ],
   "source": [
    "# Load the labels data and rearrange images in directories\n",
    "print(json_data_name)\n",
    "with open(json_data_name, 'r', encoding='utf-8') as f:\n",
    "    data_as_dict = json.load(f)\n",
    "\n",
    "    # dataset = [{'id_code': '000c1434d8d7', 'diagnosis': 2}, {'id_code': '001639a390f0', 'diagnosis': 4}]\n",
    "    #prepare_data(data_as_dict, src_folder='data/raw/resized train 19', dst_folder='data/train19')\n",
    "    prepare_data(data_as_dict, src_folder='data/raw/val_images/val_images', dst_folder='data/aptos19_val')"
   ]
  }
 ],
 "metadata": {
  "kernelspec": {
   "display_name": "Python 3",
   "language": "python",
   "name": "python3"
  },
  "language_info": {
   "codemirror_mode": {
    "name": "ipython",
    "version": 3
   },
   "file_extension": ".py",
   "mimetype": "text/x-python",
   "name": "python",
   "nbconvert_exporter": "python",
   "pygments_lexer": "ipython3",
   "version": "3.10.12"
  }
 },
 "nbformat": 4,
 "nbformat_minor": 5
}
